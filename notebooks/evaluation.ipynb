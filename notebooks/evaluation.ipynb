{
 "cells": [
  {
   "cell_type": "markdown",
   "id": "da2669b7",
   "metadata": {},
   "source": [
    "# Evaluate hybrid Earth system model simulations"
   ]
  },
  {
   "cell_type": "code",
   "execution_count": 4,
   "id": "041b019c",
   "metadata": {},
   "outputs": [],
   "source": [
    "%load_ext autoreload\n",
    "%autoreload 2"
   ]
  },
  {
   "cell_type": "code",
   "execution_count": null,
   "id": "78c5565f",
   "metadata": {},
   "outputs": [],
   "source": [
    "from pathlib import Path\n",
    "from pprint import pprint"
   ]
  },
  {
   "cell_type": "code",
   "execution_count": null,
   "id": "a2cb3660",
   "metadata": {},
   "outputs": [],
   "source": [
    "# evaluate(path, model_type, work_dir, diagnostics=None)\n",
    "# Load diag\n",
    "# Run diag\n",
    "#   Load hybrid ESM data and preprocess it\n",
    "#   Update cfg with hybrid ESM data\n",
    "#   Run diagnostic script\n",
    "# Collect output and provide nice visualizations"
   ]
  },
  {
   "cell_type": "code",
   "execution_count": 7,
   "id": "8d3c4d01",
   "metadata": {},
   "outputs": [
    {
     "name": "stdout",
     "output_type": "stream",
     "text": [
      "\u001b[32m2025-07-02 16:50:20.620\u001b[0m | \u001b[34m\u001b[1mDEBUG   \u001b[0m | \u001b[36mhybridesmbench.eval._diags.base\u001b[0m:\u001b[36m__init__\u001b[0m:\u001b[36m39\u001b[0m - \u001b[34m\u001b[1mInitialized diagnostic 'timeseries'\u001b[0m\n"
     ]
    }
   ],
   "source": [
    "from hybridesmbench.eval._diags.timeseries import Diagnostic\n",
    "\n",
    "d = Diagnostic(Path(\"/scratch/b/b309141/esmvaltool_output\"))"
   ]
  },
  {
   "cell_type": "code",
   "execution_count": 8,
   "id": "92754814",
   "metadata": {},
   "outputs": [
    {
     "name": "stderr",
     "output_type": "stream",
     "text": [
      "[autoreload of hybridesmbench.eval._load.__init__ failed: Traceback (most recent call last):\n",
      "  File \"/work/bd0854/b309141/micromamba/envs/hyesm/lib/python3.12/site-packages/IPython/extensions/autoreload.py\", line 276, in check\n",
      "    superreload(m, reload, self.old_objects)\n",
      "  File \"/work/bd0854/b309141/micromamba/envs/hyesm/lib/python3.12/site-packages/IPython/extensions/autoreload.py\", line 475, in superreload\n",
      "    module = reload(module)\n",
      "             ^^^^^^^^^^^^^^\n",
      "  File \"/work/bd0854/b309141/micromamba/envs/hyesm/lib/python3.12/importlib/__init__.py\", line 131, in reload\n",
      "    _bootstrap._exec(spec, module)\n",
      "  File \"<frozen importlib._bootstrap>\", line 860, in _exec\n",
      "  File \"<frozen importlib._bootstrap_external>\", line 994, in exec_module\n",
      "  File \"<frozen importlib._bootstrap>\", line 488, in _call_with_frames_removed\n",
      "  File \"/home/b/b309141/repos/HybridESMBench/hybridesmbench/eval/_load/__init__.py\", line 33, in <module>\n",
      "    LOADERS = _get_all_loaders()\n",
      "              ^^^^^^^^^^^^^^^^^^\n",
      "  File \"/home/b/b309141/repos/HybridESMBench/hybridesmbench/eval/_load/__init__.py\", line 22, in _get_all_loaders\n",
      "    loader = importlib.import_module(\n",
      "             ^^^^^^^^^^^^^^^^^^^^^^^^\n",
      "  File \"/work/bd0854/b309141/micromamba/envs/hyesm/lib/python3.12/importlib/__init__.py\", line 90, in import_module\n",
      "    return _bootstrap._gcd_import(name[level:], package, level)\n",
      "           ^^^^^^^^^^^^^^^^^^^^^^^^^^^^^^^^^^^^^^^^^^^^^^^^^^^^\n",
      "  File \"<frozen importlib._bootstrap>\", line 1381, in _gcd_import\n",
      "ModuleNotFoundError: No module named 'hybridesmbench.eval._load.icon.Loader'; 'hybridesmbench.eval._load.icon' is not a package\n",
      "]\n"
     ]
    },
    {
     "name": "stdout",
     "output_type": "stream",
     "text": [
      "\u001b[32m2025-07-02 16:52:51.397\u001b[0m | \u001b[1mINFO    \u001b[0m | \u001b[36mhybridesmbench.eval._diags.base\u001b[0m:\u001b[36mrun\u001b[0m:\u001b[36m82\u001b[0m - \u001b[1mRunning diagnostic 'timeseries'\u001b[0m\n",
      "\u001b[32m2025-07-02 16:52:51.410\u001b[0m | \u001b[34m\u001b[1mDEBUG   \u001b[0m | \u001b[36mhybridesmbench.eval._diags.base\u001b[0m:\u001b[36mrun\u001b[0m:\u001b[36m87\u001b[0m - \u001b[34m\u001b[1mCreated session directory /scratch/b/b309141/esmvaltool_output/timeseries_20250702_145020\u001b[0m\n",
      "\u001b[32m2025-07-02 16:52:51.410\u001b[0m | \u001b[34m\u001b[1mDEBUG   \u001b[0m | \u001b[36mhybridesmbench.eval._diags.base\u001b[0m:\u001b[36mrun\u001b[0m:\u001b[36m88\u001b[0m - \u001b[34m\u001b[1mCreated input directory /scratch/b/b309141/esmvaltool_output/timeseries_20250702_145020/input\u001b[0m\n",
      "\u001b[32m2025-07-02 16:52:51.411\u001b[0m | \u001b[34m\u001b[1mDEBUG   \u001b[0m | \u001b[36mhybridesmbench.eval._diags.base\u001b[0m:\u001b[36mrun\u001b[0m:\u001b[36m89\u001b[0m - \u001b[34m\u001b[1mCreated output directory /scratch/b/b309141/esmvaltool_output/timeseries_20250702_145020/output\u001b[0m\n",
      "\u001b[32m2025-07-02 16:52:51.412\u001b[0m | \u001b[34m\u001b[1mDEBUG   \u001b[0m | \u001b[36mhybridesmbench.eval._diags.base\u001b[0m:\u001b[36m_get_cfg\u001b[0m:\u001b[36m143\u001b[0m - \u001b[34m\u001b[1mCreated directory /scratch/b/b309141/esmvaltool_output/timeseries_20250702_145020/input/aux\u001b[0m\n",
      "\u001b[32m2025-07-02 16:52:51.412\u001b[0m | \u001b[34m\u001b[1mDEBUG   \u001b[0m | \u001b[36mhybridesmbench.eval._diags.base\u001b[0m:\u001b[36m_get_cfg\u001b[0m:\u001b[36m143\u001b[0m - \u001b[34m\u001b[1mCreated directory /scratch/b/b309141/esmvaltool_output/timeseries_20250702_145020/output/plots\u001b[0m\n",
      "\u001b[32m2025-07-02 16:52:51.413\u001b[0m | \u001b[34m\u001b[1mDEBUG   \u001b[0m | \u001b[36mhybridesmbench.eval._diags.base\u001b[0m:\u001b[36m_get_cfg\u001b[0m:\u001b[36m143\u001b[0m - \u001b[34m\u001b[1mCreated directory /scratch/b/b309141/esmvaltool_output/timeseries_20250702_145020/output/run\u001b[0m\n",
      "\u001b[32m2025-07-02 16:52:51.414\u001b[0m | \u001b[34m\u001b[1mDEBUG   \u001b[0m | \u001b[36mhybridesmbench.eval._diags.base\u001b[0m:\u001b[36m_get_cfg\u001b[0m:\u001b[36m143\u001b[0m - \u001b[34m\u001b[1mCreated directory /scratch/b/b309141/esmvaltool_output/timeseries_20250702_145020/output/work\u001b[0m\n",
      "\u001b[32m2025-07-02 16:52:51.731\u001b[0m | \u001b[34m\u001b[1mDEBUG   \u001b[0m | \u001b[36mhybridesmbench.eval._diags.base\u001b[0m:\u001b[36m_get_cfg\u001b[0m:\u001b[36m150\u001b[0m - \u001b[34m\u001b[1mLoaded metadata file /home/b/b309141/repos/HybridESMBench/hybridesmbench/eval/_diags/timeseries/data/rlut/metadata.yml\u001b[0m\n",
      "\u001b[32m2025-07-02 16:52:51.809\u001b[0m | \u001b[34m\u001b[1mDEBUG   \u001b[0m | \u001b[36mhybridesmbench.eval._diags.base\u001b[0m:\u001b[36m_get_cfg\u001b[0m:\u001b[36m150\u001b[0m - \u001b[34m\u001b[1mLoaded metadata file /home/b/b309141/repos/HybridESMBench/hybridesmbench/eval/_diags/timeseries/data/tas/metadata.yml\u001b[0m\n",
      "\u001b[32m2025-07-02 16:52:51.883\u001b[0m | \u001b[34m\u001b[1mDEBUG   \u001b[0m | \u001b[36mhybridesmbench.eval._diags.base\u001b[0m:\u001b[36m_get_cfg\u001b[0m:\u001b[36m150\u001b[0m - \u001b[34m\u001b[1mLoaded metadata file /home/b/b309141/repos/HybridESMBench/hybridesmbench/eval/_diags/timeseries/data/pr/metadata.yml\u001b[0m\n",
      "\u001b[32m2025-07-02 16:52:51.959\u001b[0m | \u001b[34m\u001b[1mDEBUG   \u001b[0m | \u001b[36mhybridesmbench.eval._diags.base\u001b[0m:\u001b[36m_get_cfg\u001b[0m:\u001b[36m150\u001b[0m - \u001b[34m\u001b[1mLoaded metadata file /home/b/b309141/repos/HybridESMBench/hybridesmbench/eval/_diags/timeseries/data/rsut/metadata.yml\u001b[0m\n",
      "\u001b[32m2025-07-02 16:52:52.000\u001b[0m | \u001b[34m\u001b[1mDEBUG   \u001b[0m | \u001b[36mhybridesmbench.eval._diags.base\u001b[0m:\u001b[36m_get_cfg\u001b[0m:\u001b[36m150\u001b[0m - \u001b[34m\u001b[1mLoaded metadata file /home/b/b309141/repos/HybridESMBench/hybridesmbench/eval/_diags/timeseries/data/rtmt/metadata.yml\u001b[0m\n",
      "\u001b[32m2025-07-02 16:52:52.218\u001b[0m | \u001b[34m\u001b[1mDEBUG   \u001b[0m | \u001b[36mhybridesmbench.eval._diags.base\u001b[0m:\u001b[36m_get_cfg\u001b[0m:\u001b[36m161\u001b[0m - \u001b[34m\u001b[1mWrote metadata file /scratch/b/b309141/esmvaltool_output/timeseries_20250702_145020/input/metadata.yml\u001b[0m\n",
      "\u001b[32m2025-07-02 16:53:00.266\u001b[0m | \u001b[1mINFO    \u001b[0m | \u001b[36mhybridesmbench.eval._diags.base\u001b[0m:\u001b[36mrun\u001b[0m:\u001b[36m94\u001b[0m - \u001b[1mFinished diagnostic 'timeseries'\u001b[0m\n"
     ]
    }
   ],
   "source": [
    "d.run()"
   ]
  },
  {
   "cell_type": "code",
   "execution_count": 17,
   "id": "1f0431d8",
   "metadata": {},
   "outputs": [
    {
     "name": "stdout",
     "output_type": "stream",
     "text": [
      "[PosixPath('/scratch/b/b309141/esmvaltool_output/timeseries_20250702_132232/output/plots/timeseries_historical_rtmt_ambiguous_dataset_Amon.png'),\n",
      " PosixPath('/scratch/b/b309141/esmvaltool_output/timeseries_20250702_132232/output/plots/timeseries_ambiguous_exp_pr_ambiguous_dataset_Amon.png'),\n",
      " PosixPath('/scratch/b/b309141/esmvaltool_output/timeseries_20250702_132232/output/plots/timeseries_ambiguous_exp_rlut_ambiguous_dataset_Amon.png'),\n",
      " PosixPath('/scratch/b/b309141/esmvaltool_output/timeseries_20250702_132232/output/plots/timeseries_ambiguous_exp_rsut_ambiguous_dataset_Amon.png'),\n",
      " PosixPath('/scratch/b/b309141/esmvaltool_output/timeseries_20250702_132232/output/plots/timeseries_ambiguous_exp_tas_ambiguous_dataset_Amon.png')]\n"
     ]
    }
   ],
   "source": [
    "pprint(list(d.get_all_figures()))"
   ]
  },
  {
   "cell_type": "code",
   "execution_count": 18,
   "id": "8d3bfea1",
   "metadata": {},
   "outputs": [
    {
     "name": "stdout",
     "output_type": "stream",
     "text": [
      "[PosixPath('/scratch/b/b309141/esmvaltool_output/timeseries_20250702_132232/output/work/timeseries_ambiguous_exp_rlut_ambiguous_dataset_Amon.nc'),\n",
      " PosixPath('/scratch/b/b309141/esmvaltool_output/timeseries_20250702_132232/output/work/timeseries_historical_rtmt_ambiguous_dataset_Amon.nc'),\n",
      " PosixPath('/scratch/b/b309141/esmvaltool_output/timeseries_20250702_132232/output/work/timeseries_ambiguous_exp_rsut_ambiguous_dataset_Amon.nc'),\n",
      " PosixPath('/scratch/b/b309141/esmvaltool_output/timeseries_20250702_132232/output/work/timeseries_ambiguous_exp_pr_ambiguous_dataset_Amon.nc'),\n",
      " PosixPath('/scratch/b/b309141/esmvaltool_output/timeseries_20250702_132232/output/work/timeseries_ambiguous_exp_tas_ambiguous_dataset_Amon.nc')]\n"
     ]
    }
   ],
   "source": [
    "pprint(list(d.get_all_nc_files()))"
   ]
  },
  {
   "cell_type": "code",
   "execution_count": 19,
   "id": "2d9719f1",
   "metadata": {},
   "outputs": [
    {
     "name": "stdout",
     "output_type": "stream",
     "text": [
      "\u001b[32m2025-07-02 17:11:52.750\u001b[0m | \u001b[34m\u001b[1mDEBUG   \u001b[0m | \u001b[36mhybridesmbench.eval._load.base\u001b[0m:\u001b[36m__init__\u001b[0m:\u001b[36m28\u001b[0m - \u001b[34m\u001b[1mInitialized loader for 'icon' data located at /work/bd1179/b309170/icon-ml_models/icon-a-ml/experiments/ag_atm_amip_r2b5_auto_tuned_baseline_20yrs\u001b[0m\n",
      "\u001b[32m2025-07-02 17:11:52.755\u001b[0m | \u001b[34m\u001b[1mDEBUG   \u001b[0m | \u001b[36mhybridesmbench.eval._load.base\u001b[0m:\u001b[36mload_variable\u001b[0m:\u001b[36m49\u001b[0m - \u001b[34m\u001b[1mTrying to load variable 'tas' from MIP 'Amon'\u001b[0m\n",
      "\u001b[32m2025-07-02 17:11:52.755\u001b[0m | \u001b[34m\u001b[1mDEBUG   \u001b[0m | \u001b[36mhybridesmbench.eval._load.icon_base\u001b[0m:\u001b[36m_load_single_variable\u001b[0m:\u001b[36m79\u001b[0m - \u001b[34m\u001b[1mLoading files at /work/bd1179/b309170/icon-ml_models/icon-a-ml/experiments/ag_atm_amip_r2b5_auto_tuned_baseline_20yrs/ag_atm_amip_r2b5_auto_tuned_baseline_20yrs_atm_2d_ml_*.nc\u001b[0m\n",
      "\u001b[32m2025-07-02 17:12:08.112\u001b[0m | \u001b[34m\u001b[1mDEBUG   \u001b[0m | \u001b[36mhybridesmbench.eval._load.base\u001b[0m:\u001b[36mload_variable\u001b[0m:\u001b[36m53\u001b[0m - \u001b[34m\u001b[1mLoaded variable 'tas' from MIP 'Amon'\u001b[0m\n",
      "0: surface_upwelling_shortwave_flux_in_air / (W m-2) (time: 241; -- : 81920)\n",
      "1: vertically integrated cloud ice / (kg m-2) (time: 241; -- : 81920)\n",
      "2: vertically integrated water vapour / (kg m-2) (time: 241; -- : 81920)\n",
      "3: surface_downwelling_shortwave_flux_in_air_assuming_clear_sky / (W m-2) (time: 241; -- : 81920)\n",
      "4: toa_outgoing_shortwave_flux_assuming_clear_sky / (W m-2) (time: 241; -- : 81920)\n",
      "5: sensible heat flux / (W m-2)        (time: 241; -- : 81920)\n",
      "6: mean sea level pressure / (Pa)      (time: 241; -- : 81920)\n",
      "7: toa_outgoing_shortwave_flux / (W m-2) (time: 241; -- : 81920)\n",
      "8: toa_outgoing_longwave_flux / (W m-2) (time: 241; -- : 81920)\n",
      "9: precipitation flux / (kg m-2 s-1)   (time: 241; -- : 81920)\n",
      "10: surface_air_pressure / (Pa)         (time: 241; -- : 81920)\n",
      "11: latent heat flux / (W m-2)          (time: 241; -- : 81920)\n",
      "12: surface_upwelling_shortwave_flux_in_air_assuming_clear_sky / (W m-2) (time: 241; -- : 81920)\n",
      "13: surface_downwelling_shortwave_flux_in_air / (W m-2) (time: 241; -- : 81920)\n",
      "14: surface_upwelling_longwave_flux_in_air / (W m-2) (time: 241; -- : 81920)\n",
      "15: temperature in 2m / (K)             (time: 241; height: 1; -- : 81920)\n",
      "16: toa_outgoing_longwave_flux_assuming_clear_sky / (W m-2) (time: 241; -- : 81920)\n",
      "17: surface_downwelling_longwave_flux_in_air / (W m-2) (time: 241; -- : 81920)\n",
      "18: toa_incoming_shortwave_flux / (W m-2) (time: 241; -- : 81920)\n",
      "19: surface_downwelling_longwave_flux_in_air_assuming_clear_sky / (W m-2) (time: 241; -- : 81920)\n",
      "20: u-momentum flux at the surface / (N m-2) (time: 241; -- : 81920)\n",
      "21: vertically integrated cloud water / (kg m-2) (time: 241; -- : 81920)\n",
      "22: total cloud cover / (m2 m-2)        (time: 241; -- : 81920)\n",
      "23: clat_bnds / (unknown)               (time: 241; -- : 81920; -- : 3)\n",
      "24: clon_bnds / (unknown)               (time: 241; -- : 81920; -- : 3)\n"
     ]
    }
   ],
   "source": [
    "from hybridesmbench.eval._load.icon import Loader\n",
    "\n",
    "loader = Loader(Path(\"/work/bd1179/b309170/icon-ml_models/icon-a-ml/experiments/ag_atm_amip_r2b5_auto_tuned_baseline_20yrs/\"))\n",
    "cube = loader.load_variable(\"tas\", \"Amon\")\n",
    "\n",
    "print(cube)"
   ]
  },
  {
   "cell_type": "code",
   "execution_count": 21,
   "id": "ed3b313d",
   "metadata": {},
   "outputs": [
    {
     "name": "stdout",
     "output_type": "stream",
     "text": [
      "\u001b[32m2025-07-02 17:13:06.924\u001b[0m | \u001b[34m\u001b[1mDEBUG   \u001b[0m | \u001b[36mhybridesmbench.eval._load.base\u001b[0m:\u001b[36m__init__\u001b[0m:\u001b[36m28\u001b[0m - \u001b[34m\u001b[1mInitialized loader for 'icon_base' data located at /work/bd1179/b309170/icon-ml_models/icon-a-ml/experiments/ag_atm_amip_r2b5_auto_tuned_baseline_20yrs\u001b[0m\n",
      "\u001b[32m2025-07-02 17:13:06.927\u001b[0m | \u001b[34m\u001b[1mDEBUG   \u001b[0m | \u001b[36mhybridesmbench.eval._load.base\u001b[0m:\u001b[36mload_variable\u001b[0m:\u001b[36m49\u001b[0m - \u001b[34m\u001b[1mTrying to load variable 'tas' from MIP 'Amon'\u001b[0m\n"
     ]
    },
    {
     "ename": "AttributeError",
     "evalue": "'BaseICONLoader' object has no attribute '_VAR_TYPES'",
     "output_type": "error",
     "traceback": [
      "\u001b[0;31m---------------------------------------------------------------------------\u001b[0m",
      "\u001b[0;31mAttributeError\u001b[0m                            Traceback (most recent call last)",
      "Cell \u001b[0;32mIn[21], line 4\u001b[0m\n\u001b[1;32m      1\u001b[0m \u001b[38;5;28;01mfrom\u001b[39;00m\u001b[38;5;250m \u001b[39m\u001b[38;5;21;01mhybridesmbench\u001b[39;00m\u001b[38;5;21;01m.\u001b[39;00m\u001b[38;5;21;01meval\u001b[39;00m\u001b[38;5;21;01m.\u001b[39;00m\u001b[38;5;21;01m_load\u001b[39;00m\u001b[38;5;21;01m.\u001b[39;00m\u001b[38;5;21;01micon_base\u001b[39;00m\u001b[38;5;250m \u001b[39m\u001b[38;5;28;01mimport\u001b[39;00m BaseICONLoader\n\u001b[1;32m      3\u001b[0m loader \u001b[38;5;241m=\u001b[39m BaseICONLoader(Path(\u001b[38;5;124m\"\u001b[39m\u001b[38;5;124m/work/bd1179/b309170/icon-ml_models/icon-a-ml/experiments/ag_atm_amip_r2b5_auto_tuned_baseline_20yrs/\u001b[39m\u001b[38;5;124m\"\u001b[39m))\n\u001b[0;32m----> 4\u001b[0m cube \u001b[38;5;241m=\u001b[39m \u001b[43mloader\u001b[49m\u001b[38;5;241;43m.\u001b[39;49m\u001b[43mload_variable\u001b[49m\u001b[43m(\u001b[49m\u001b[38;5;124;43m\"\u001b[39;49m\u001b[38;5;124;43mtas\u001b[39;49m\u001b[38;5;124;43m\"\u001b[39;49m\u001b[43m,\u001b[49m\u001b[43m \u001b[49m\u001b[38;5;124;43m\"\u001b[39;49m\u001b[38;5;124;43mAmon\u001b[39;49m\u001b[38;5;124;43m\"\u001b[39;49m\u001b[43m)\u001b[49m\n\u001b[1;32m      6\u001b[0m \u001b[38;5;28mprint\u001b[39m(cube)\n",
      "File \u001b[0;32m~/repos/HybridESMBench/hybridesmbench/eval/_load/base.py:52\u001b[0m, in \u001b[0;36mBaseLoader.load_variable\u001b[0;34m(self, var_name, var_mip)\u001b[0m\n\u001b[1;32m     34\u001b[0m \u001b[38;5;250m\u001b[39m\u001b[38;5;124;03m\"\"\"Load single variable.\u001b[39;00m\n\u001b[1;32m     35\u001b[0m \n\u001b[1;32m     36\u001b[0m \u001b[38;5;124;03mParameters\u001b[39;00m\n\u001b[0;32m   (...)\u001b[0m\n\u001b[1;32m     47\u001b[0m \n\u001b[1;32m     48\u001b[0m \u001b[38;5;124;03m\"\"\"\u001b[39;00m\n\u001b[1;32m     49\u001b[0m logger\u001b[38;5;241m.\u001b[39mdebug(\n\u001b[1;32m     50\u001b[0m     \u001b[38;5;124mf\u001b[39m\u001b[38;5;124m\"\u001b[39m\u001b[38;5;124mTrying to load variable \u001b[39m\u001b[38;5;124m'\u001b[39m\u001b[38;5;132;01m{\u001b[39;00mvar_name\u001b[38;5;132;01m}\u001b[39;00m\u001b[38;5;124m'\u001b[39m\u001b[38;5;124m from MIP \u001b[39m\u001b[38;5;124m'\u001b[39m\u001b[38;5;132;01m{\u001b[39;00mvar_mip\u001b[38;5;132;01m}\u001b[39;00m\u001b[38;5;124m'\u001b[39m\u001b[38;5;124m\"\u001b[39m\n\u001b[1;32m     51\u001b[0m )\n\u001b[0;32m---> 52\u001b[0m cube \u001b[38;5;241m=\u001b[39m \u001b[38;5;28;43mself\u001b[39;49m\u001b[38;5;241;43m.\u001b[39;49m\u001b[43m_load_single_variable\u001b[49m\u001b[43m(\u001b[49m\u001b[43mvar_name\u001b[49m\u001b[43m,\u001b[49m\u001b[43m \u001b[49m\u001b[43mvar_mip\u001b[49m\u001b[43m)\u001b[49m\n\u001b[1;32m     53\u001b[0m logger\u001b[38;5;241m.\u001b[39mdebug(\u001b[38;5;124mf\u001b[39m\u001b[38;5;124m\"\u001b[39m\u001b[38;5;124mLoaded variable \u001b[39m\u001b[38;5;124m'\u001b[39m\u001b[38;5;132;01m{\u001b[39;00mvar_name\u001b[38;5;132;01m}\u001b[39;00m\u001b[38;5;124m'\u001b[39m\u001b[38;5;124m from MIP \u001b[39m\u001b[38;5;124m'\u001b[39m\u001b[38;5;132;01m{\u001b[39;00mvar_mip\u001b[38;5;132;01m}\u001b[39;00m\u001b[38;5;124m'\u001b[39m\u001b[38;5;124m\"\u001b[39m)\n\u001b[1;32m     54\u001b[0m \u001b[38;5;28;01mreturn\u001b[39;00m cube\n",
      "File \u001b[0;32m~/repos/HybridESMBench/hybridesmbench/eval/_load/icon_base.py:70\u001b[0m, in \u001b[0;36mBaseICONLoader._load_single_variable\u001b[0;34m(self, var_name, var_mip)\u001b[0m\n\u001b[1;32m     68\u001b[0m \u001b[38;5;28;01mdef\u001b[39;00m\u001b[38;5;250m \u001b[39m\u001b[38;5;21m_load_single_variable\u001b[39m(\u001b[38;5;28mself\u001b[39m, var_name: \u001b[38;5;28mstr\u001b[39m, var_mip: \u001b[38;5;28mstr\u001b[39m) \u001b[38;5;241m-\u001b[39m\u001b[38;5;241m>\u001b[39m Cube:\n\u001b[1;32m     69\u001b[0m \u001b[38;5;250m    \u001b[39m\u001b[38;5;124;03m\"\"\"Load single variable.\"\"\"\u001b[39;00m\n\u001b[0;32m---> 70\u001b[0m     \u001b[38;5;28;01mif\u001b[39;00m var_name \u001b[38;5;129;01mnot\u001b[39;00m \u001b[38;5;129;01min\u001b[39;00m \u001b[38;5;28;43mself\u001b[39;49m\u001b[38;5;241;43m.\u001b[39;49m\u001b[43m_VAR_TYPES\u001b[49m:\n\u001b[1;32m     71\u001b[0m         \u001b[38;5;28;01mraise\u001b[39;00m \u001b[38;5;167;01mValueError\u001b[39;00m(\n\u001b[1;32m     72\u001b[0m             \u001b[38;5;124mf\u001b[39m\u001b[38;5;124m\"\u001b[39m\u001b[38;5;124mVariable \u001b[39m\u001b[38;5;124m'\u001b[39m\u001b[38;5;132;01m{\u001b[39;00mvar_name\u001b[38;5;132;01m}\u001b[39;00m\u001b[38;5;124m'\u001b[39m\u001b[38;5;124m not supported for model type \u001b[39m\u001b[38;5;124m\"\u001b[39m\n\u001b[1;32m     73\u001b[0m             \u001b[38;5;124mf\u001b[39m\u001b[38;5;124m\"\u001b[39m\u001b[38;5;124m'\u001b[39m\u001b[38;5;132;01m{\u001b[39;00m\u001b[38;5;28mself\u001b[39m\u001b[38;5;241m.\u001b[39mmodel_type\u001b[38;5;132;01m}\u001b[39;00m\u001b[38;5;124m'\u001b[39m\u001b[38;5;124m yet\u001b[39m\u001b[38;5;124m\"\u001b[39m\n\u001b[1;32m     74\u001b[0m         )\n\u001b[1;32m     75\u001b[0m     var_type \u001b[38;5;241m=\u001b[39m \u001b[38;5;28mself\u001b[39m\u001b[38;5;241m.\u001b[39m_VAR_TYPES[var_name]\n",
      "\u001b[0;31mAttributeError\u001b[0m: 'BaseICONLoader' object has no attribute '_VAR_TYPES'"
     ]
    }
   ],
   "source": [
    "from hybridesmbench.eval._load.icon_base import BaseICONLoader\n",
    "\n",
    "loader = BaseICONLoader(Path(\"/work/bd1179/b309170/icon-ml_models/icon-a-ml/experiments/ag_atm_amip_r2b5_auto_tuned_baseline_20yrs/\"))\n",
    "cube = loader.load_variable(\"tas\", \"Amon\")\n",
    "\n",
    "print(cube)"
   ]
  },
  {
   "cell_type": "code",
   "execution_count": null,
   "id": "28e8c1be",
   "metadata": {},
   "outputs": [],
   "source": [
    "# ICON-XPP support will be available with ESMValTool v2.13.0\n",
    "# from hybridesmbench.eval._load.icon_xpp import ICONXPPLoader\n",
    "\n",
    "# loader = ICONXPPLoader(Path(\"/work/bd1179/b309260/icon-models/icon-xpp-ml/experiments/mb_jsbach_parameters_constants\"))\n",
    "# cubes = loader.load_variable(\"tas\", \"Amon\")\n",
    "\n",
    "# print(cubes[0])"
   ]
  }
 ],
 "metadata": {
  "kernelspec": {
   "display_name": "Python 3",
   "language": "python",
   "name": "python3"
  },
  "language_info": {
   "codemirror_mode": {
    "name": "ipython",
    "version": 3
   },
   "file_extension": ".py",
   "mimetype": "text/x-python",
   "name": "python",
   "nbconvert_exporter": "python",
   "pygments_lexer": "ipython3",
   "version": "3.12.0"
  }
 },
 "nbformat": 4,
 "nbformat_minor": 5
}
