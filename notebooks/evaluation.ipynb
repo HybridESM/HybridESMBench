{
 "cells": [
  {
   "cell_type": "markdown",
   "id": "da2669b7",
   "metadata": {},
   "source": [
    "# Evaluate hybrid Earth system model simulations"
   ]
  },
  {
   "cell_type": "code",
   "execution_count": 1,
   "id": "041b019c",
   "metadata": {},
   "outputs": [],
   "source": [
    "%load_ext autoreload\n",
    "%autoreload 2"
   ]
  },
  {
   "cell_type": "code",
   "execution_count": 2,
   "id": "78c5565f",
   "metadata": {},
   "outputs": [],
   "source": [
    "from pathlib import Path\n",
    "import iris\n",
    "import xarray as xr\n",
    "from pprint import pprint"
   ]
  },
  {
   "cell_type": "code",
   "execution_count": null,
   "id": "a2cb3660",
   "metadata": {},
   "outputs": [
    {
     "ename": "NameError",
     "evalue": "name 'evaluate' is not defined",
     "output_type": "error",
     "traceback": [
      "\u001b[0;31m---------------------------------------------------------------------------\u001b[0m",
      "\u001b[0;31mNameError\u001b[0m                                 Traceback (most recent call last)",
      "Cell \u001b[0;32mIn[8], line 1\u001b[0m\n\u001b[0;32m----> 1\u001b[0m \u001b[43mevaluate\u001b[49m(paths, model_name, model_type, output_dir, diagnostics)\n",
      "\u001b[0;31mNameError\u001b[0m: name 'evaluate' is not defined"
     ]
    }
   ],
   "source": [
    "# evaluate(paths, model_name, model_type, output_dir, diagnostics)"
   ]
  },
  {
   "cell_type": "code",
   "execution_count": 3,
   "id": "8d3c4d01",
   "metadata": {},
   "outputs": [
    {
     "ename": "AttributeError",
     "evalue": "'Diagnostic' object has no attribute '_root_dir'",
     "output_type": "error",
     "traceback": [
      "\u001b[0;31m---------------------------------------------------------------------------\u001b[0m",
      "\u001b[0;31mAttributeError\u001b[0m                            Traceback (most recent call last)",
      "Cell \u001b[0;32mIn[3], line 3\u001b[0m\n\u001b[1;32m      1\u001b[0m \u001b[38;5;28;01mfrom\u001b[39;00m\u001b[38;5;250m \u001b[39m\u001b[38;5;21;01mhybridesmbench\u001b[39;00m\u001b[38;5;21;01m.\u001b[39;00m\u001b[38;5;21;01meval\u001b[39;00m\u001b[38;5;21;01m.\u001b[39;00m\u001b[38;5;21;01m_diags\u001b[39;00m\u001b[38;5;21;01m.\u001b[39;00m\u001b[38;5;21;01mtimeseries\u001b[39;00m\u001b[38;5;250m \u001b[39m\u001b[38;5;28;01mimport\u001b[39;00m Diagnostic\n\u001b[0;32m----> 3\u001b[0m d \u001b[38;5;241m=\u001b[39m \u001b[43mDiagnostic\u001b[49m\u001b[43m(\u001b[49m\u001b[43mPath\u001b[49m\u001b[43m(\u001b[49m\u001b[38;5;124;43m\"\u001b[39;49m\u001b[38;5;124;43m/scratch/b/b309141/esmvaltool_output\u001b[39;49m\u001b[38;5;124;43m\"\u001b[39;49m\u001b[43m)\u001b[49m\u001b[43m)\u001b[49m\n",
      "File \u001b[0;32m~/repos/HybridESMBench/hybridesmbench/eval/_diags/base.py:36\u001b[0m, in \u001b[0;36mDiagnostic.__init__\u001b[0;34m(self, work_dir)\u001b[0m\n\u001b[1;32m     34\u001b[0m \u001b[38;5;28;01mdef\u001b[39;00m\u001b[38;5;250m \u001b[39m\u001b[38;5;21m__init__\u001b[39m(\u001b[38;5;28mself\u001b[39m, work_dir: Path) \u001b[38;5;241m-\u001b[39m\u001b[38;5;241m>\u001b[39m \u001b[38;5;28;01mNone\u001b[39;00m:\n\u001b[1;32m     35\u001b[0m \u001b[38;5;250m    \u001b[39m\u001b[38;5;124;03m\"\"\"Initialize class instance.\"\"\"\u001b[39;00m\n\u001b[0;32m---> 36\u001b[0m     logger\u001b[38;5;241m.\u001b[39mdebug(\u001b[38;5;124mf\u001b[39m\u001b[38;5;124m\"\u001b[39m\u001b[38;5;124mInitializing diagnostic \u001b[39m\u001b[38;5;124m'\u001b[39m\u001b[38;5;132;01m{\u001b[39;00m\u001b[38;5;28;43mself\u001b[39;49m\u001b[38;5;241;43m.\u001b[39;49m\u001b[43mname\u001b[49m\u001b[38;5;132;01m}\u001b[39;00m\u001b[38;5;124m'\u001b[39m\u001b[38;5;124m\"\u001b[39m)\n\u001b[1;32m     37\u001b[0m     \u001b[38;5;28mself\u001b[39m\u001b[38;5;241m.\u001b[39m_session_dir \u001b[38;5;241m=\u001b[39m \u001b[38;5;28mself\u001b[39m\u001b[38;5;241m.\u001b[39m_get_session_dir(work_dir)\n\u001b[1;32m     38\u001b[0m     \u001b[38;5;28mself\u001b[39m\u001b[38;5;241m.\u001b[39m_root_dir \u001b[38;5;241m=\u001b[39m Path(inspect\u001b[38;5;241m.\u001b[39mgetfile(\u001b[38;5;28mself\u001b[39m\u001b[38;5;241m.\u001b[39m\u001b[38;5;18m__class__\u001b[39m))\u001b[38;5;241m.\u001b[39mparent\n",
      "File \u001b[0;32m~/repos/HybridESMBench/hybridesmbench/eval/_diags/base.py:74\u001b[0m, in \u001b[0;36mDiagnostic.name\u001b[0;34m(self)\u001b[0m\n\u001b[1;32m     71\u001b[0m \u001b[38;5;129m@property\u001b[39m\n\u001b[1;32m     72\u001b[0m \u001b[38;5;28;01mdef\u001b[39;00m\u001b[38;5;250m \u001b[39m\u001b[38;5;21mname\u001b[39m(\u001b[38;5;28mself\u001b[39m) \u001b[38;5;241m-\u001b[39m\u001b[38;5;241m>\u001b[39m \u001b[38;5;28mstr\u001b[39m:\n\u001b[1;32m     73\u001b[0m \u001b[38;5;250m    \u001b[39m\u001b[38;5;124;03m\"\"\"Get name of diagnostic.\"\"\"\u001b[39;00m\n\u001b[0;32m---> 74\u001b[0m     \u001b[38;5;28;01mreturn\u001b[39;00m \u001b[38;5;28;43mself\u001b[39;49m\u001b[38;5;241;43m.\u001b[39;49m\u001b[43m_root_dir\u001b[49m\u001b[38;5;241m.\u001b[39mname\n",
      "\u001b[0;31mAttributeError\u001b[0m: 'Diagnostic' object has no attribute '_root_dir'"
     ]
    }
   ],
   "source": [
    "from hybridesmbench.eval._diags.timeseries import Diagnostic\n",
    "\n",
    "d = Diagnostic(Path(\"/scratch/b/b309141/esmvaltool_output\"))"
   ]
  },
  {
   "cell_type": "code",
   "execution_count": 87,
   "id": "1f0431d8",
   "metadata": {},
   "outputs": [
    {
     "name": "stdout",
     "output_type": "stream",
     "text": [
      "[PosixPath('/scratch/b/b309141/esmvaltool_output/timeseries_20250701_143302/output/plots/timeseries_historical_rtmt_ambiguous_dataset_Amon.png'),\n",
      " PosixPath('/scratch/b/b309141/esmvaltool_output/timeseries_20250701_143302/output/plots/timeseries_ambiguous_exp_pr_ambiguous_dataset_Amon.png'),\n",
      " PosixPath('/scratch/b/b309141/esmvaltool_output/timeseries_20250701_143302/output/plots/timeseries_ambiguous_exp_rlut_ambiguous_dataset_Amon.png'),\n",
      " PosixPath('/scratch/b/b309141/esmvaltool_output/timeseries_20250701_143302/output/plots/timeseries_ambiguous_exp_rsut_ambiguous_dataset_Amon.png'),\n",
      " PosixPath('/scratch/b/b309141/esmvaltool_output/timeseries_20250701_143302/output/plots/timeseries_ambiguous_exp_tas_ambiguous_dataset_Amon.png')]\n"
     ]
    }
   ],
   "source": [
    "pprint(d.get_all_figures())"
   ]
  },
  {
   "cell_type": "code",
   "execution_count": 88,
   "id": "8d3bfea1",
   "metadata": {},
   "outputs": [
    {
     "name": "stdout",
     "output_type": "stream",
     "text": [
      "[PosixPath('/scratch/b/b309141/esmvaltool_output/timeseries_20250701_143302/output/work/timeseries_ambiguous_exp_rlut_ambiguous_dataset_Amon.nc'),\n",
      " PosixPath('/scratch/b/b309141/esmvaltool_output/timeseries_20250701_143302/output/work/timeseries_historical_rtmt_ambiguous_dataset_Amon.nc'),\n",
      " PosixPath('/scratch/b/b309141/esmvaltool_output/timeseries_20250701_143302/output/work/timeseries_ambiguous_exp_rsut_ambiguous_dataset_Amon.nc'),\n",
      " PosixPath('/scratch/b/b309141/esmvaltool_output/timeseries_20250701_143302/output/work/timeseries_ambiguous_exp_pr_ambiguous_dataset_Amon.nc'),\n",
      " PosixPath('/scratch/b/b309141/esmvaltool_output/timeseries_20250701_143302/output/work/timeseries_ambiguous_exp_tas_ambiguous_dataset_Amon.nc')]\n"
     ]
    }
   ],
   "source": [
    "pprint(d.get_all_nc_files())"
   ]
  },
  {
   "cell_type": "code",
   "execution_count": null,
   "id": "1b0a9a6a",
   "metadata": {},
   "outputs": [],
   "source": []
  }
 ],
 "metadata": {
  "kernelspec": {
   "display_name": "Python 3",
   "language": "python",
   "name": "python3"
  },
  "language_info": {
   "codemirror_mode": {
    "name": "ipython",
    "version": 3
   },
   "file_extension": ".py",
   "mimetype": "text/x-python",
   "name": "python",
   "nbconvert_exporter": "python",
   "pygments_lexer": "ipython3",
   "version": "3.12.0"
  }
 },
 "nbformat": 4,
 "nbformat_minor": 5
}
