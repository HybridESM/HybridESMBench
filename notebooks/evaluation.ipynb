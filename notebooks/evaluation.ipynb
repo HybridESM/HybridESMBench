{
 "cells": [
  {
   "cell_type": "markdown",
   "id": "da2669b7",
   "metadata": {},
   "source": [
    "# Evaluate hybrid Earth system model simulations"
   ]
  },
  {
   "cell_type": "code",
   "execution_count": 1,
   "id": "32a3fb81",
   "metadata": {},
   "outputs": [],
   "source": [
    "# Setup logger\n",
    "import sys\n",
    "from loguru import logger\n",
    "\n",
    "logger.remove();\n",
    "logger.add(sys.stdout, colorize=True);"
   ]
  },
  {
   "cell_type": "markdown",
   "id": "5e822ead",
   "metadata": {},
   "source": [
    "## Example 1: ICON output"
   ]
  },
  {
   "cell_type": "code",
   "execution_count": 2,
   "id": "a2cb3660",
   "metadata": {},
   "outputs": [
    {
     "name": "stderr",
     "output_type": "stream",
     "text": [
      "ERROR 1: PROJ: proj_create_from_database: Open of /home/manuel/micromamba/envs/hyesm/share/proj failed\n"
     ]
    },
    {
     "name": "stdout",
     "output_type": "stream",
     "text": [
      "\u001b[32m2025-07-04 10:35:40.484\u001b[0m | \u001b[34m\u001b[1mDEBUG   \u001b[0m | \u001b[36mhybridesmbench.eval._diags.base\u001b[0m:\u001b[36m__init__\u001b[0m:\u001b[36m35\u001b[0m - \u001b[34m\u001b[1mInitialized diagnostic 'timeseries'\u001b[0m\n",
      "\u001b[32m2025-07-04 10:35:40.485\u001b[0m | \u001b[34m\u001b[1mDEBUG   \u001b[0m | \u001b[36mhybridesmbench.eval._diags.base\u001b[0m:\u001b[36mrun\u001b[0m:\u001b[36m60\u001b[0m - \u001b[34m\u001b[1mRunning diagnostic 'timeseries'\u001b[0m\n",
      "\u001b[32m2025-07-04 10:35:40.486\u001b[0m | \u001b[34m\u001b[1mDEBUG   \u001b[0m | \u001b[36mhybridesmbench.eval._diags.base\u001b[0m:\u001b[36mrun\u001b[0m:\u001b[36m65\u001b[0m - \u001b[34m\u001b[1mCreated session directory /home/manuel/tmp/hybridesmbench/timeseries_20250704_083540\u001b[0m\n",
      "\u001b[32m2025-07-04 10:35:40.487\u001b[0m | \u001b[34m\u001b[1mDEBUG   \u001b[0m | \u001b[36mhybridesmbench.eval._diags.base\u001b[0m:\u001b[36mrun\u001b[0m:\u001b[36m66\u001b[0m - \u001b[34m\u001b[1mCreated input directory /home/manuel/tmp/hybridesmbench/timeseries_20250704_083540/input\u001b[0m\n",
      "\u001b[32m2025-07-04 10:35:40.487\u001b[0m | \u001b[34m\u001b[1mDEBUG   \u001b[0m | \u001b[36mhybridesmbench.eval._diags.base\u001b[0m:\u001b[36mrun\u001b[0m:\u001b[36m67\u001b[0m - \u001b[34m\u001b[1mCreated output directory /home/manuel/tmp/hybridesmbench/timeseries_20250704_083540/output\u001b[0m\n",
      "\u001b[32m2025-07-04 10:35:40.487\u001b[0m | \u001b[34m\u001b[1mDEBUG   \u001b[0m | \u001b[36mhybridesmbench.eval._loaders.base\u001b[0m:\u001b[36m__init__\u001b[0m:\u001b[36m38\u001b[0m - \u001b[34m\u001b[1mInitialized loader for 'icon' data located at /mnt/d/data/icon/ag_atm_amip_r2b5_auto_tuned_baseline_20yrs\u001b[0m\n",
      "\u001b[32m2025-07-04 10:35:40.495\u001b[0m | \u001b[34m\u001b[1mDEBUG   \u001b[0m | \u001b[36mhybridesmbench.eval._diags.base\u001b[0m:\u001b[36m_run_diag\u001b[0m:\u001b[36m239\u001b[0m - \u001b[34m\u001b[1mCreating cfg for ESMValTool diagnostic 'timeseries'\u001b[0m\n",
      "\u001b[32m2025-07-04 10:35:40.496\u001b[0m | \u001b[34m\u001b[1mDEBUG   \u001b[0m | \u001b[36mhybridesmbench.eval._diags.base\u001b[0m:\u001b[36m_get_cfg\u001b[0m:\u001b[36m146\u001b[0m - \u001b[34m\u001b[1mCreated directory /home/manuel/tmp/hybridesmbench/timeseries_20250704_083540/input/aux\u001b[0m\n",
      "\u001b[32m2025-07-04 10:35:40.497\u001b[0m | \u001b[34m\u001b[1mDEBUG   \u001b[0m | \u001b[36mhybridesmbench.eval._diags.base\u001b[0m:\u001b[36m_get_cfg\u001b[0m:\u001b[36m146\u001b[0m - \u001b[34m\u001b[1mCreated directory /home/manuel/tmp/hybridesmbench/timeseries_20250704_083540/output/plots\u001b[0m\n",
      "\u001b[32m2025-07-04 10:35:40.497\u001b[0m | \u001b[34m\u001b[1mDEBUG   \u001b[0m | \u001b[36mhybridesmbench.eval._diags.base\u001b[0m:\u001b[36m_get_cfg\u001b[0m:\u001b[36m146\u001b[0m - \u001b[34m\u001b[1mCreated directory /home/manuel/tmp/hybridesmbench/timeseries_20250704_083540/output/run\u001b[0m\n",
      "\u001b[32m2025-07-04 10:35:40.498\u001b[0m | \u001b[34m\u001b[1mDEBUG   \u001b[0m | \u001b[36mhybridesmbench.eval._diags.base\u001b[0m:\u001b[36m_get_cfg\u001b[0m:\u001b[36m146\u001b[0m - \u001b[34m\u001b[1mCreated directory /home/manuel/tmp/hybridesmbench/timeseries_20250704_083540/output/work\u001b[0m\n",
      "\u001b[32m2025-07-04 10:35:40.499\u001b[0m | \u001b[34m\u001b[1mDEBUG   \u001b[0m | \u001b[36mhybridesmbench.eval._diags.base\u001b[0m:\u001b[36m_get_cfg\u001b[0m:\u001b[36m153\u001b[0m - \u001b[34m\u001b[1mUsing variables ['pr', 'rlut', 'rsut', 'rtmt', 'tas'] for diagnostic 'timeseries'\u001b[0m\n",
      "\u001b[32m2025-07-04 10:35:40.499\u001b[0m | \u001b[34m\u001b[1mDEBUG   \u001b[0m | \u001b[36mhybridesmbench.eval._loaders.base\u001b[0m:\u001b[36mload_variable\u001b[0m:\u001b[36m97\u001b[0m - \u001b[34m\u001b[1mTrying to load variable 'pr' from MIP 'Amon'\u001b[0m\n",
      "\u001b[32m2025-07-04 10:35:40.500\u001b[0m | \u001b[34m\u001b[1mDEBUG   \u001b[0m | \u001b[36mhybridesmbench.eval._loaders.base\u001b[0m:\u001b[36m_load_single_variable\u001b[0m:\u001b[36m198\u001b[0m - \u001b[34m\u001b[1mLoading files at /mnt/d/data/icon/ag_atm_amip_r2b5_auto_tuned_baseline_20yrs/ag_atm_amip_r2b5_auto_tuned_baseline_20yrs_atm_2d_ml_*.nc\u001b[0m\n",
      "\u001b[32m2025-07-04 10:35:46.383\u001b[0m | \u001b[34m\u001b[1mDEBUG   \u001b[0m | \u001b[36mhybridesmbench.eval._loaders.base\u001b[0m:\u001b[36mload_variable\u001b[0m:\u001b[36m101\u001b[0m - \u001b[34m\u001b[1mLoaded variable 'pr' from MIP 'Amon'\u001b[0m\n",
      "\u001b[32m2025-07-04 10:35:46.384\u001b[0m | \u001b[34m\u001b[1mDEBUG   \u001b[0m | \u001b[36mhybridesmbench.eval._diags.base\u001b[0m:\u001b[36m_get_cfg\u001b[0m:\u001b[36m159\u001b[0m - \u001b[34m\u001b[1mRunning preprocessor on variable pr for diagnostic 'timeseries'\u001b[0m\n",
      "\u001b[32m2025-07-04 10:35:49.789\u001b[0m | \u001b[34m\u001b[1mDEBUG   \u001b[0m | \u001b[36mhybridesmbench.eval._diags.base\u001b[0m:\u001b[36m_get_cfg\u001b[0m:\u001b[36m170\u001b[0m - \u001b[34m\u001b[1mSaved /home/manuel/tmp/hybridesmbench/timeseries_20250704_083540/input/pr_Amon_ag_atm_amip_r2b5_auto_tuned_baseline_20yrs.nc\u001b[0m\n",
      "\u001b[32m2025-07-04 10:35:49.790\u001b[0m | \u001b[34m\u001b[1mDEBUG   \u001b[0m | \u001b[36mhybridesmbench.eval._loaders.base\u001b[0m:\u001b[36mload_variable\u001b[0m:\u001b[36m97\u001b[0m - \u001b[34m\u001b[1mTrying to load variable 'rlut' from MIP 'Amon'\u001b[0m\n",
      "\u001b[32m2025-07-04 10:35:49.790\u001b[0m | \u001b[34m\u001b[1mDEBUG   \u001b[0m | \u001b[36mhybridesmbench.eval._loaders.base\u001b[0m:\u001b[36m_load_single_variable\u001b[0m:\u001b[36m198\u001b[0m - \u001b[34m\u001b[1mLoading files at /mnt/d/data/icon/ag_atm_amip_r2b5_auto_tuned_baseline_20yrs/ag_atm_amip_r2b5_auto_tuned_baseline_20yrs_atm_2d_ml_*.nc\u001b[0m\n",
      "\u001b[32m2025-07-04 10:35:51.700\u001b[0m | \u001b[34m\u001b[1mDEBUG   \u001b[0m | \u001b[36mhybridesmbench.eval._loaders.base\u001b[0m:\u001b[36mload_variable\u001b[0m:\u001b[36m101\u001b[0m - \u001b[34m\u001b[1mLoaded variable 'rlut' from MIP 'Amon'\u001b[0m\n",
      "\u001b[32m2025-07-04 10:35:51.701\u001b[0m | \u001b[34m\u001b[1mDEBUG   \u001b[0m | \u001b[36mhybridesmbench.eval._diags.base\u001b[0m:\u001b[36m_get_cfg\u001b[0m:\u001b[36m159\u001b[0m - \u001b[34m\u001b[1mRunning preprocessor on variable rlut for diagnostic 'timeseries'\u001b[0m\n",
      "\u001b[32m2025-07-04 10:35:53.107\u001b[0m | \u001b[34m\u001b[1mDEBUG   \u001b[0m | \u001b[36mhybridesmbench.eval._diags.base\u001b[0m:\u001b[36m_get_cfg\u001b[0m:\u001b[36m170\u001b[0m - \u001b[34m\u001b[1mSaved /home/manuel/tmp/hybridesmbench/timeseries_20250704_083540/input/rlut_Amon_ag_atm_amip_r2b5_auto_tuned_baseline_20yrs.nc\u001b[0m\n",
      "\u001b[32m2025-07-04 10:35:53.108\u001b[0m | \u001b[34m\u001b[1mDEBUG   \u001b[0m | \u001b[36mhybridesmbench.eval._loaders.base\u001b[0m:\u001b[36mload_variable\u001b[0m:\u001b[36m97\u001b[0m - \u001b[34m\u001b[1mTrying to load variable 'rsut' from MIP 'Amon'\u001b[0m\n",
      "\u001b[32m2025-07-04 10:35:53.108\u001b[0m | \u001b[34m\u001b[1mDEBUG   \u001b[0m | \u001b[36mhybridesmbench.eval._loaders.base\u001b[0m:\u001b[36m_load_single_variable\u001b[0m:\u001b[36m198\u001b[0m - \u001b[34m\u001b[1mLoading files at /mnt/d/data/icon/ag_atm_amip_r2b5_auto_tuned_baseline_20yrs/ag_atm_amip_r2b5_auto_tuned_baseline_20yrs_atm_2d_ml_*.nc\u001b[0m\n",
      "\u001b[32m2025-07-04 10:35:55.203\u001b[0m | \u001b[34m\u001b[1mDEBUG   \u001b[0m | \u001b[36mhybridesmbench.eval._loaders.base\u001b[0m:\u001b[36mload_variable\u001b[0m:\u001b[36m101\u001b[0m - \u001b[34m\u001b[1mLoaded variable 'rsut' from MIP 'Amon'\u001b[0m\n",
      "\u001b[32m2025-07-04 10:35:55.204\u001b[0m | \u001b[34m\u001b[1mDEBUG   \u001b[0m | \u001b[36mhybridesmbench.eval._diags.base\u001b[0m:\u001b[36m_get_cfg\u001b[0m:\u001b[36m159\u001b[0m - \u001b[34m\u001b[1mRunning preprocessor on variable rsut for diagnostic 'timeseries'\u001b[0m\n",
      "\u001b[32m2025-07-04 10:35:56.741\u001b[0m | \u001b[34m\u001b[1mDEBUG   \u001b[0m | \u001b[36mhybridesmbench.eval._diags.base\u001b[0m:\u001b[36m_get_cfg\u001b[0m:\u001b[36m170\u001b[0m - \u001b[34m\u001b[1mSaved /home/manuel/tmp/hybridesmbench/timeseries_20250704_083540/input/rsut_Amon_ag_atm_amip_r2b5_auto_tuned_baseline_20yrs.nc\u001b[0m\n",
      "\u001b[32m2025-07-04 10:35:56.742\u001b[0m | \u001b[34m\u001b[1mDEBUG   \u001b[0m | \u001b[36mhybridesmbench.eval._loaders.base\u001b[0m:\u001b[36mload_variable\u001b[0m:\u001b[36m97\u001b[0m - \u001b[34m\u001b[1mTrying to load variable 'rtmt' from MIP 'Amon'\u001b[0m\n",
      "\u001b[32m2025-07-04 10:35:56.743\u001b[0m | \u001b[34m\u001b[1mDEBUG   \u001b[0m | \u001b[36mhybridesmbench.eval._loaders.base\u001b[0m:\u001b[36m_load_single_variable\u001b[0m:\u001b[36m198\u001b[0m - \u001b[34m\u001b[1mLoading files at /mnt/d/data/icon/ag_atm_amip_r2b5_auto_tuned_baseline_20yrs/ag_atm_amip_r2b5_auto_tuned_baseline_20yrs_atm_2d_ml_*.nc\u001b[0m\n",
      "\u001b[32m2025-07-04 10:35:59.181\u001b[0m | \u001b[34m\u001b[1mDEBUG   \u001b[0m | \u001b[36mhybridesmbench.eval._loaders.base\u001b[0m:\u001b[36mload_variable\u001b[0m:\u001b[36m101\u001b[0m - \u001b[34m\u001b[1mLoaded variable 'rtmt' from MIP 'Amon'\u001b[0m\n",
      "\u001b[32m2025-07-04 10:35:59.183\u001b[0m | \u001b[34m\u001b[1mDEBUG   \u001b[0m | \u001b[36mhybridesmbench.eval._diags.base\u001b[0m:\u001b[36m_get_cfg\u001b[0m:\u001b[36m159\u001b[0m - \u001b[34m\u001b[1mRunning preprocessor on variable rtmt for diagnostic 'timeseries'\u001b[0m\n",
      "\u001b[32m2025-07-04 10:36:00.923\u001b[0m | \u001b[34m\u001b[1mDEBUG   \u001b[0m | \u001b[36mhybridesmbench.eval._diags.base\u001b[0m:\u001b[36m_get_cfg\u001b[0m:\u001b[36m170\u001b[0m - \u001b[34m\u001b[1mSaved /home/manuel/tmp/hybridesmbench/timeseries_20250704_083540/input/rtmt_Amon_ag_atm_amip_r2b5_auto_tuned_baseline_20yrs.nc\u001b[0m\n",
      "\u001b[32m2025-07-04 10:36:00.924\u001b[0m | \u001b[34m\u001b[1mDEBUG   \u001b[0m | \u001b[36mhybridesmbench.eval._loaders.base\u001b[0m:\u001b[36mload_variable\u001b[0m:\u001b[36m97\u001b[0m - \u001b[34m\u001b[1mTrying to load variable 'tas' from MIP 'Amon'\u001b[0m\n",
      "\u001b[32m2025-07-04 10:36:00.925\u001b[0m | \u001b[34m\u001b[1mDEBUG   \u001b[0m | \u001b[36mhybridesmbench.eval._loaders.base\u001b[0m:\u001b[36m_load_single_variable\u001b[0m:\u001b[36m198\u001b[0m - \u001b[34m\u001b[1mLoading files at /mnt/d/data/icon/ag_atm_amip_r2b5_auto_tuned_baseline_20yrs/ag_atm_amip_r2b5_auto_tuned_baseline_20yrs_atm_2d_ml_*.nc\u001b[0m\n",
      "\u001b[32m2025-07-04 10:36:03.307\u001b[0m | \u001b[34m\u001b[1mDEBUG   \u001b[0m | \u001b[36mhybridesmbench.eval._loaders.base\u001b[0m:\u001b[36mload_variable\u001b[0m:\u001b[36m101\u001b[0m - \u001b[34m\u001b[1mLoaded variable 'tas' from MIP 'Amon'\u001b[0m\n",
      "\u001b[32m2025-07-04 10:36:03.309\u001b[0m | \u001b[34m\u001b[1mDEBUG   \u001b[0m | \u001b[36mhybridesmbench.eval._diags.base\u001b[0m:\u001b[36m_get_cfg\u001b[0m:\u001b[36m159\u001b[0m - \u001b[34m\u001b[1mRunning preprocessor on variable tas for diagnostic 'timeseries'\u001b[0m\n",
      "\u001b[32m2025-07-04 10:36:04.952\u001b[0m | \u001b[34m\u001b[1mDEBUG   \u001b[0m | \u001b[36mhybridesmbench.eval._diags.base\u001b[0m:\u001b[36m_get_cfg\u001b[0m:\u001b[36m170\u001b[0m - \u001b[34m\u001b[1mSaved /home/manuel/tmp/hybridesmbench/timeseries_20250704_083540/input/tas_Amon_ag_atm_amip_r2b5_auto_tuned_baseline_20yrs.nc\u001b[0m\n",
      "\u001b[32m2025-07-04 10:36:04.980\u001b[0m | \u001b[34m\u001b[1mDEBUG   \u001b[0m | \u001b[36mhybridesmbench.eval._diags.base\u001b[0m:\u001b[36m_get_cfg\u001b[0m:\u001b[36m199\u001b[0m - \u001b[34m\u001b[1mLoaded metadata file /home/manuel/HybridESMBench/hybridesmbench/eval/_diags/timeseries/data/rtmt/metadata.yml\u001b[0m\n",
      "\u001b[32m2025-07-04 10:36:05.032\u001b[0m | \u001b[34m\u001b[1mDEBUG   \u001b[0m | \u001b[36mhybridesmbench.eval._diags.base\u001b[0m:\u001b[36m_get_cfg\u001b[0m:\u001b[36m199\u001b[0m - \u001b[34m\u001b[1mLoaded metadata file /home/manuel/HybridESMBench/hybridesmbench/eval/_diags/timeseries/data/tas/metadata.yml\u001b[0m\n",
      "\u001b[32m2025-07-04 10:36:05.083\u001b[0m | \u001b[34m\u001b[1mDEBUG   \u001b[0m | \u001b[36mhybridesmbench.eval._diags.base\u001b[0m:\u001b[36m_get_cfg\u001b[0m:\u001b[36m199\u001b[0m - \u001b[34m\u001b[1mLoaded metadata file /home/manuel/HybridESMBench/hybridesmbench/eval/_diags/timeseries/data/rsut/metadata.yml\u001b[0m\n",
      "\u001b[32m2025-07-04 10:36:05.137\u001b[0m | \u001b[34m\u001b[1mDEBUG   \u001b[0m | \u001b[36mhybridesmbench.eval._diags.base\u001b[0m:\u001b[36m_get_cfg\u001b[0m:\u001b[36m199\u001b[0m - \u001b[34m\u001b[1mLoaded metadata file /home/manuel/HybridESMBench/hybridesmbench/eval/_diags/timeseries/data/rlut/metadata.yml\u001b[0m\n",
      "\u001b[32m2025-07-04 10:36:05.188\u001b[0m | \u001b[34m\u001b[1mDEBUG   \u001b[0m | \u001b[36mhybridesmbench.eval._diags.base\u001b[0m:\u001b[36m_get_cfg\u001b[0m:\u001b[36m199\u001b[0m - \u001b[34m\u001b[1mLoaded metadata file /home/manuel/HybridESMBench/hybridesmbench/eval/_diags/timeseries/data/pr/metadata.yml\u001b[0m\n",
      "\u001b[32m2025-07-04 10:36:05.334\u001b[0m | \u001b[34m\u001b[1mDEBUG   \u001b[0m | \u001b[36mhybridesmbench.eval._diags.base\u001b[0m:\u001b[36m_get_cfg\u001b[0m:\u001b[36m211\u001b[0m - \u001b[34m\u001b[1mWrote metadata file /home/manuel/tmp/hybridesmbench/timeseries_20250704_083540/input/metadata.yml\u001b[0m\n",
      "\u001b[32m2025-07-04 10:36:05.335\u001b[0m | \u001b[34m\u001b[1mDEBUG   \u001b[0m | \u001b[36mhybridesmbench.eval._diags.base\u001b[0m:\u001b[36m_run_diag\u001b[0m:\u001b[36m243\u001b[0m - \u001b[34m\u001b[1mRunning ESMValTool diagnostic 'timeseries'\u001b[0m\n",
      "\u001b[32m2025-07-04 10:36:09.953\u001b[0m | \u001b[34m\u001b[1mDEBUG   \u001b[0m | \u001b[36mhybridesmbench.eval._diags.base\u001b[0m:\u001b[36mrun\u001b[0m:\u001b[36m74\u001b[0m - \u001b[34m\u001b[1mFinished diagnostic 'timeseries'\u001b[0m\n"
     ]
    }
   ],
   "source": [
    "from hybridesmbench.eval import evaluate\n",
    "\n",
    "icon_output = \"/mnt/d/data/icon/ag_atm_amip_r2b5_auto_tuned_baseline_20yrs\"\n",
    "model_type = \"icon\"\n",
    "work_dir = \"/home/manuel/tmp/hybridesmbench\"\n",
    "\n",
    "output = evaluate(icon_output, model_type, work_dir)"
   ]
  },
  {
   "cell_type": "code",
   "execution_count": 3,
   "id": "8d3c4d01",
   "metadata": {},
   "outputs": [
    {
     "name": "stdout",
     "output_type": "stream",
     "text": [
      "Diagnostic 'timeseries':\n",
      "[PosixPath('/home/manuel/tmp/hybridesmbench/timeseries_20250704_083540/output/plots/timeseries_ambiguous_exp_rtmt_ambiguous_dataset_Amon.png'),\n",
      " PosixPath('/home/manuel/tmp/hybridesmbench/timeseries_20250704_083540/output/plots/timeseries_ambiguous_exp_rlut_ambiguous_dataset_Amon.png'),\n",
      " PosixPath('/home/manuel/tmp/hybridesmbench/timeseries_20250704_083540/output/plots/timeseries_ambiguous_exp_tas_ambiguous_dataset_Amon.png'),\n",
      " PosixPath('/home/manuel/tmp/hybridesmbench/timeseries_20250704_083540/output/plots/timeseries_ambiguous_exp_pr_ambiguous_dataset_Amon.png'),\n",
      " PosixPath('/home/manuel/tmp/hybridesmbench/timeseries_20250704_083540/output/plots/timeseries_ambiguous_exp_rsut_ambiguous_dataset_Amon.png')]\n",
      "\n"
     ]
    }
   ],
   "source": [
    "from pprint import pprint\n",
    "\n",
    "# Show all produced plots\n",
    "for diag_name, path in output.items():\n",
    "    print(f\"Diagnostic '{diag_name}':\")\n",
    "    if path is not None:\n",
    "        pprint(list(path.rglob(\"*.png\")))\n",
    "    print()"
   ]
  }
 ],
 "metadata": {
  "kernelspec": {
   "display_name": "Python 3",
   "language": "python",
   "name": "python3"
  },
  "language_info": {
   "codemirror_mode": {
    "name": "ipython",
    "version": 3
   },
   "file_extension": ".py",
   "mimetype": "text/x-python",
   "name": "python",
   "nbconvert_exporter": "python",
   "pygments_lexer": "ipython3",
   "version": "3.12.0"
  }
 },
 "nbformat": 4,
 "nbformat_minor": 5
}
