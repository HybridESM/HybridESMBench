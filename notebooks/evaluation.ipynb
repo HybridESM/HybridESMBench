{
 "cells": [
  {
   "cell_type": "markdown",
   "id": "da2669b7",
   "metadata": {},
   "source": [
    "# Evaluate hybrid Earth system model simulations"
   ]
  },
  {
   "cell_type": "code",
   "execution_count": 6,
   "id": "041b019c",
   "metadata": {},
   "outputs": [],
   "source": [
    "%load_ext autoreload\n",
    "%autoreload 2"
   ]
  },
  {
   "cell_type": "code",
   "execution_count": 48,
   "id": "78c5565f",
   "metadata": {},
   "outputs": [],
   "source": [
    "from pathlib import Path\n",
    "import iris\n",
    "import xarray as xr\n",
    "from pprint import pprint"
   ]
  },
  {
   "cell_type": "code",
   "execution_count": 8,
   "id": "a2cb3660",
   "metadata": {},
   "outputs": [
    {
     "ename": "NameError",
     "evalue": "name 'evaluate' is not defined",
     "output_type": "error",
     "traceback": [
      "\u001b[0;31m---------------------------------------------------------------------------\u001b[0m",
      "\u001b[0;31mNameError\u001b[0m                                 Traceback (most recent call last)",
      "Cell \u001b[0;32mIn[8], line 1\u001b[0m\n\u001b[0;32m----> 1\u001b[0m \u001b[43mevaluate\u001b[49m(paths, model_name, model_type, output_dir, diagnostics)\n",
      "\u001b[0;31mNameError\u001b[0m: name 'evaluate' is not defined"
     ]
    }
   ],
   "source": [
    "evaluate(paths, model_name, model_type, output_dir, diagnostics)"
   ]
  },
  {
   "cell_type": "code",
   "execution_count": 82,
   "id": "8d3c4d01",
   "metadata": {},
   "outputs": [
    {
     "name": "stdout",
     "output_type": "stream",
     "text": [
      "\u001b[32m2025-07-01 16:33:02.647\u001b[0m | \u001b[1mINFO    \u001b[0m | \u001b[36mhybridesmbench.eval._diags.base\u001b[0m:\u001b[36m__init__\u001b[0m:\u001b[36m37\u001b[0m - \u001b[1mInitializing diagnostic 'timeseries'\u001b[0m\n",
      "\u001b[32m2025-07-01 16:33:02.651\u001b[0m | \u001b[34m\u001b[1mDEBUG   \u001b[0m | \u001b[36mhybridesmbench.eval._diags.base\u001b[0m:\u001b[36m_get_session_dir\u001b[0m:\u001b[36m155\u001b[0m - \u001b[34m\u001b[1mCreated session directory /scratch/b/b309141/esmvaltool_output/timeseries_20250701_143302\u001b[0m\n",
      "\u001b[32m2025-07-01 16:33:02.653\u001b[0m | \u001b[34m\u001b[1mDEBUG   \u001b[0m | \u001b[36mhybridesmbench.eval._diags.base\u001b[0m:\u001b[36m__init__\u001b[0m:\u001b[36m41\u001b[0m - \u001b[34m\u001b[1mCreated input directory /scratch/b/b309141/esmvaltool_output/timeseries_20250701_143302/input\u001b[0m\n",
      "\u001b[32m2025-07-01 16:33:02.653\u001b[0m | \u001b[34m\u001b[1mDEBUG   \u001b[0m | \u001b[36mhybridesmbench.eval._diags.base\u001b[0m:\u001b[36m__init__\u001b[0m:\u001b[36m42\u001b[0m - \u001b[34m\u001b[1mCreated output directory /scratch/b/b309141/esmvaltool_output/timeseries_20250701_143302/output\u001b[0m\n",
      "\u001b[32m2025-07-01 16:33:02.654\u001b[0m | \u001b[34m\u001b[1mDEBUG   \u001b[0m | \u001b[36mhybridesmbench.eval._diags.base\u001b[0m:\u001b[36m_get_cfg\u001b[0m:\u001b[36m114\u001b[0m - \u001b[34m\u001b[1mCreated directory /scratch/b/b309141/esmvaltool_output/timeseries_20250701_143302/input/aux\u001b[0m\n",
      "\u001b[32m2025-07-01 16:33:02.655\u001b[0m | \u001b[34m\u001b[1mDEBUG   \u001b[0m | \u001b[36mhybridesmbench.eval._diags.base\u001b[0m:\u001b[36m_get_cfg\u001b[0m:\u001b[36m114\u001b[0m - \u001b[34m\u001b[1mCreated directory /scratch/b/b309141/esmvaltool_output/timeseries_20250701_143302/output/plots\u001b[0m\n",
      "\u001b[32m2025-07-01 16:33:02.655\u001b[0m | \u001b[34m\u001b[1mDEBUG   \u001b[0m | \u001b[36mhybridesmbench.eval._diags.base\u001b[0m:\u001b[36m_get_cfg\u001b[0m:\u001b[36m114\u001b[0m - \u001b[34m\u001b[1mCreated directory /scratch/b/b309141/esmvaltool_output/timeseries_20250701_143302/output/run\u001b[0m\n",
      "\u001b[32m2025-07-01 16:33:02.656\u001b[0m | \u001b[34m\u001b[1mDEBUG   \u001b[0m | \u001b[36mhybridesmbench.eval._diags.base\u001b[0m:\u001b[36m_get_cfg\u001b[0m:\u001b[36m114\u001b[0m - \u001b[34m\u001b[1mCreated directory /scratch/b/b309141/esmvaltool_output/timeseries_20250701_143302/output/work\u001b[0m\n",
      "\u001b[32m2025-07-01 16:33:02.736\u001b[0m | \u001b[34m\u001b[1mDEBUG   \u001b[0m | \u001b[36mhybridesmbench.eval._diags.base\u001b[0m:\u001b[36m_get_cfg\u001b[0m:\u001b[36m121\u001b[0m - \u001b[34m\u001b[1mLoaded metadata file /home/b/b309141/repos/HybridESMBench/hybridesmbench/eval/_diags/timeseries/data/rlut/metadata.yml\u001b[0m\n",
      "\u001b[32m2025-07-01 16:33:02.811\u001b[0m | \u001b[34m\u001b[1mDEBUG   \u001b[0m | \u001b[36mhybridesmbench.eval._diags.base\u001b[0m:\u001b[36m_get_cfg\u001b[0m:\u001b[36m121\u001b[0m - \u001b[34m\u001b[1mLoaded metadata file /home/b/b309141/repos/HybridESMBench/hybridesmbench/eval/_diags/timeseries/data/tas/metadata.yml\u001b[0m\n",
      "\u001b[32m2025-07-01 16:33:02.884\u001b[0m | \u001b[34m\u001b[1mDEBUG   \u001b[0m | \u001b[36mhybridesmbench.eval._diags.base\u001b[0m:\u001b[36m_get_cfg\u001b[0m:\u001b[36m121\u001b[0m - \u001b[34m\u001b[1mLoaded metadata file /home/b/b309141/repos/HybridESMBench/hybridesmbench/eval/_diags/timeseries/data/pr/metadata.yml\u001b[0m\n",
      "\u001b[32m2025-07-01 16:33:02.958\u001b[0m | \u001b[34m\u001b[1mDEBUG   \u001b[0m | \u001b[36mhybridesmbench.eval._diags.base\u001b[0m:\u001b[36m_get_cfg\u001b[0m:\u001b[36m121\u001b[0m - \u001b[34m\u001b[1mLoaded metadata file /home/b/b309141/repos/HybridESMBench/hybridesmbench/eval/_diags/timeseries/data/rsut/metadata.yml\u001b[0m\n",
      "\u001b[32m2025-07-01 16:33:02.998\u001b[0m | \u001b[34m\u001b[1mDEBUG   \u001b[0m | \u001b[36mhybridesmbench.eval._diags.base\u001b[0m:\u001b[36m_get_cfg\u001b[0m:\u001b[36m121\u001b[0m - \u001b[34m\u001b[1mLoaded metadata file /home/b/b309141/repos/HybridESMBench/hybridesmbench/eval/_diags/timeseries/data/rtmt/metadata.yml\u001b[0m\n",
      "\u001b[32m2025-07-01 16:33:03.212\u001b[0m | \u001b[34m\u001b[1mDEBUG   \u001b[0m | \u001b[36mhybridesmbench.eval._diags.base\u001b[0m:\u001b[36m_get_cfg\u001b[0m:\u001b[36m132\u001b[0m - \u001b[34m\u001b[1mWrote metadata file /scratch/b/b309141/esmvaltool_output/timeseries_20250701_143302/input/metadata.yml\u001b[0m\n",
      "\u001b[32m2025-07-01 16:33:03.213\u001b[0m | \u001b[1mINFO    \u001b[0m | \u001b[36mhybridesmbench.eval._diags.timeseries\u001b[0m:\u001b[36mrun\u001b[0m:\u001b[36m65\u001b[0m - \u001b[1mRunning diagnostic 'timeseries'\u001b[0m\n",
      "\u001b[32m2025-07-01 16:33:09.530\u001b[0m | \u001b[1mINFO    \u001b[0m | \u001b[36mhybridesmbench.eval._diags.timeseries\u001b[0m:\u001b[36mrun\u001b[0m:\u001b[36m76\u001b[0m - \u001b[1mFinished diagnostic 'timeseries'\u001b[0m\n"
     ]
    }
   ],
   "source": [
    "from hybridesmbench.eval._diags.timeseries import Diagnostic\n",
    "\n",
    "d = Diagnostic(Path(\"/scratch/b/b309141/esmvaltool_output\"))\n",
    "d.run()"
   ]
  },
  {
   "cell_type": "code",
   "execution_count": 87,
   "id": "1f0431d8",
   "metadata": {},
   "outputs": [
    {
     "name": "stdout",
     "output_type": "stream",
     "text": [
      "[PosixPath('/scratch/b/b309141/esmvaltool_output/timeseries_20250701_143302/output/plots/timeseries_historical_rtmt_ambiguous_dataset_Amon.png'),\n",
      " PosixPath('/scratch/b/b309141/esmvaltool_output/timeseries_20250701_143302/output/plots/timeseries_ambiguous_exp_pr_ambiguous_dataset_Amon.png'),\n",
      " PosixPath('/scratch/b/b309141/esmvaltool_output/timeseries_20250701_143302/output/plots/timeseries_ambiguous_exp_rlut_ambiguous_dataset_Amon.png'),\n",
      " PosixPath('/scratch/b/b309141/esmvaltool_output/timeseries_20250701_143302/output/plots/timeseries_ambiguous_exp_rsut_ambiguous_dataset_Amon.png'),\n",
      " PosixPath('/scratch/b/b309141/esmvaltool_output/timeseries_20250701_143302/output/plots/timeseries_ambiguous_exp_tas_ambiguous_dataset_Amon.png')]\n"
     ]
    }
   ],
   "source": [
    "pprint(d.get_all_figures())"
   ]
  },
  {
   "cell_type": "code",
   "execution_count": 88,
   "id": "8d3bfea1",
   "metadata": {},
   "outputs": [
    {
     "name": "stdout",
     "output_type": "stream",
     "text": [
      "[PosixPath('/scratch/b/b309141/esmvaltool_output/timeseries_20250701_143302/output/work/timeseries_ambiguous_exp_rlut_ambiguous_dataset_Amon.nc'),\n",
      " PosixPath('/scratch/b/b309141/esmvaltool_output/timeseries_20250701_143302/output/work/timeseries_historical_rtmt_ambiguous_dataset_Amon.nc'),\n",
      " PosixPath('/scratch/b/b309141/esmvaltool_output/timeseries_20250701_143302/output/work/timeseries_ambiguous_exp_rsut_ambiguous_dataset_Amon.nc'),\n",
      " PosixPath('/scratch/b/b309141/esmvaltool_output/timeseries_20250701_143302/output/work/timeseries_ambiguous_exp_pr_ambiguous_dataset_Amon.nc'),\n",
      " PosixPath('/scratch/b/b309141/esmvaltool_output/timeseries_20250701_143302/output/work/timeseries_ambiguous_exp_tas_ambiguous_dataset_Amon.nc')]\n"
     ]
    }
   ],
   "source": [
    "pprint(d.get_all_nc_files())"
   ]
  },
  {
   "cell_type": "code",
   "execution_count": null,
   "id": "1b0a9a6a",
   "metadata": {},
   "outputs": [],
   "source": []
  }
 ],
 "metadata": {
  "kernelspec": {
   "display_name": "Python 3",
   "language": "python",
   "name": "python3"
  },
  "language_info": {
   "codemirror_mode": {
    "name": "ipython",
    "version": 3
   },
   "file_extension": ".py",
   "mimetype": "text/x-python",
   "name": "python",
   "nbconvert_exporter": "python",
   "pygments_lexer": "ipython3",
   "version": "3.12.0"
  }
 },
 "nbformat": 4,
 "nbformat_minor": 5
}
